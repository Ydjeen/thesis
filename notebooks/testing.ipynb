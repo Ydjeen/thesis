{
 "cells": [
  {
   "cell_type": "code",
   "execution_count": 30,
   "outputs": [],
   "source": [
    "from datetime import datetime, timedelta\n",
    "from matplotlib import pyplot as plt\n",
    "import numpy as np\n",
    "import requests"
   ],
   "metadata": {
    "collapsed": false,
    "pycharm": {
     "name": "#%%\n"
    }
   }
  },
  {
   "cell_type": "code",
   "execution_count": 31,
   "outputs": [],
   "source": [
    "def SMA(data, width):\n",
    "    i = 0\n",
    "    moving_averages = []\n",
    "    while i < len(data) - width + 1:\n",
    "        window = data[i : i + width]\n",
    "        window_average = round(np.sum(window) / width, 2)\n",
    "        moving_averages.append(window_average)\n",
    "        i += 1\n",
    "    return moving_averages"
   ],
   "metadata": {
    "collapsed": false,
    "pycharm": {
     "name": "#%%\n"
    }
   }
  },
  {
   "cell_type": "code",
   "execution_count": 32,
   "metadata": {
    "collapsed": true
   },
   "outputs": [
    {
     "ename": "TypeError",
     "evalue": "'module' object is not callable",
     "output_type": "error",
     "traceback": [
      "\u001B[1;31m---------------------------------------------------------------------------\u001B[0m",
      "\u001B[1;31mTypeError\u001B[0m                                 Traceback (most recent call last)",
      "Cell \u001B[1;32mIn[32], line 6\u001B[0m\n\u001B[0;32m      4\u001B[0m \u001B[38;5;28;01mimport\u001B[39;00m \u001B[38;5;21;01mbs4\u001B[39;00m\n\u001B[0;32m      5\u001B[0m prometheus_info \u001B[38;5;241m=\u001B[39m response \u001B[38;5;241m=\u001B[39m requests\u001B[38;5;241m.\u001B[39mget(\u001B[38;5;124m\"\u001B[39m\u001B[38;5;124mhttp://wally193.cit.tu-berlin.de:9091/status\u001B[39m\u001B[38;5;124m\"\u001B[39m)\n\u001B[1;32m----> 6\u001B[0m prometheus_info_soup\u001B[38;5;241m=\u001B[39m \u001B[43mbs4\u001B[49m\u001B[43m(\u001B[49m\u001B[43mprometheus_info\u001B[49m\u001B[38;5;241;43m.\u001B[39;49m\u001B[43mtext\u001B[49m\u001B[43m,\u001B[49m\u001B[43m \u001B[49m\u001B[38;5;124;43m'\u001B[39;49m\u001B[38;5;124;43mhtml.parser\u001B[39;49m\u001B[38;5;124;43m'\u001B[39;49m\u001B[43m)\u001B[49m\n\u001B[0;32m      8\u001B[0m start \u001B[38;5;241m=\u001B[39m prometheus_info_soup\u001B[38;5;241m.\u001B[39mfindAll(\u001B[38;5;124m'\u001B[39m\u001B[38;5;124mtd\u001B[39m\u001B[38;5;124m'\u001B[39m)[\u001B[38;5;241m0\u001B[39m]\u001B[38;5;241m.\u001B[39mtext\u001B[38;5;241m.\u001B[39msplit(\u001B[38;5;124m'\u001B[39m\u001B[38;5;124m.\u001B[39m\u001B[38;5;124m'\u001B[39m)[\u001B[38;5;241m0\u001B[39m]\n\u001B[0;32m      9\u001B[0m datetime_object \u001B[38;5;241m=\u001B[39m datetime\u001B[38;5;241m.\u001B[39mstrptime(start, \u001B[38;5;124m'\u001B[39m\u001B[38;5;124m%\u001B[39m\u001B[38;5;124mY-\u001B[39m\u001B[38;5;124m%\u001B[39m\u001B[38;5;124mm-\u001B[39m\u001B[38;5;132;01m%d\u001B[39;00m\u001B[38;5;124m \u001B[39m\u001B[38;5;124m%\u001B[39m\u001B[38;5;124mH:\u001B[39m\u001B[38;5;124m%\u001B[39m\u001B[38;5;124mM:\u001B[39m\u001B[38;5;124m%\u001B[39m\u001B[38;5;124mS\u001B[39m\u001B[38;5;124m'\u001B[39m)\n",
      "\u001B[1;31mTypeError\u001B[0m: 'module' object is not callable"
     ]
    }
   ],
   "source": [
    "start = 1679950001 - 2*3600\n",
    "start = 1679934272 - 2*3600\n",
    "end = (datetime.today() + timedelta(hours=0)).timestamp()\n",
    "from bs4 import BeautifulSoup\n",
    "prometheus_info = response = requests.get(\"http://wally193.cit.tu-berlin.de:9091/status\")\n",
    "prometheus_info_soup= BeautifulSoup(prometheus_info.text, 'html.parser')\n",
    "\n",
    "start = prometheus_info_soup.findAll('td')[0].text.split('.')[0]\n",
    "datetime_object = datetime.strptime(start, '%Y-%m-%d %H:%M:%S')\n",
    "start = datetime_object.timestamp()\n",
    "\n",
    "query = \"node_memory_MemTotal_bytes - node_memory_MemAvailable_bytes\"\n",
    "\n",
    "url = f'http://wally193.cit.tu-berlin.de:9091/api/v1/query_range?query={query}&end={end}&step=60&start={start}'\n",
    "print(url)\n",
    "response = requests.get(url, headers={'Accept': 'application/json'})\n",
    "response = response.json()['data']['result']\n",
    "metrics = dict()\n",
    "for instance in response:\n",
    "    node = instance['metric']['instance']\n",
    "    values = instance['values']\n",
    "    metrics[node]=values\n",
    "    print(len(values))\n",
    "\n",
    "plt.figure().set_figwidth(15)\n",
    "for instance, values in metrics.items():\n",
    "    data = [int(point[1]) for point in values]\n",
    "    timestamp =  [int(point[0]) for point in values]\n",
    "    timestamp = np.array(timestamp)\n",
    "    timestamp = np.subtract(timestamp, timestamp.min())\n",
    "    timestamp = np.divide(timestamp, 3600)\n",
    "    data = np.divide(np.array(data), 1073741824)\n",
    "    plt.plot(timestamp[:-9], SMA(data, 10), label=instance)\n",
    "plt.legend()\n",
    "plt.show()"
   ]
  },
  {
   "cell_type": "code",
   "execution_count": null,
   "outputs": [],
   "source": [],
   "metadata": {
    "collapsed": false,
    "pycharm": {
     "name": "#%%\n"
    }
   }
  }
 ],
 "metadata": {
  "kernelspec": {
   "display_name": "Python 3",
   "language": "python",
   "name": "python3"
  },
  "language_info": {
   "codemirror_mode": {
    "name": "ipython",
    "version": 2
   },
   "file_extension": ".py",
   "mimetype": "text/x-python",
   "name": "python",
   "nbconvert_exporter": "python",
   "pygments_lexer": "ipython2",
   "version": "2.7.6"
  }
 },
 "nbformat": 4,
 "nbformat_minor": 0
}