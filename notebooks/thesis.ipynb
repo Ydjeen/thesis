{
 "cells": [
  {
   "cell_type": "code",
   "execution_count": 21,
   "metadata": {
    "collapsed": true
   },
   "outputs": [],
   "source": [
    "import itertools\n",
    "import os\n",
    "import numpy as np\n",
    "import json\n",
    "from matplotlib import pyplot as plt\n",
    "from matplotlib.pyplot import figure\n",
    "import csv\n",
    "\n",
    "data_folder = '../data/'\n",
    "\n",
    "metric_memory = \"node_avg_memory\""
   ]
  },
  {
   "cell_type": "code",
   "execution_count": 33,
   "outputs": [],
   "source": [
    "def extract_json_data(report_json):\n",
    "    task_data = report_json['tasks'][0]['subtasks'][0]['workloads'][0]\n",
    "    return task_data\n",
    "\n",
    "def get_task_data_list(task_folders):\n",
    "    result = list()\n",
    "    for task_folder in task_folders:\n",
    "        load_folders = next(os.walk(task_folder))[1]\n",
    "        load_folders.sort()\n",
    "        for load_folder in load_folders:\n",
    "            report_json_file = open(task_folder+'/'+load_folder+'/'+'rally_report.json')\n",
    "            report_json = json.load(report_json_file)\n",
    "            result.append(extract_json_data(report_json))\n",
    "    return result\n",
    "\n",
    "\n",
    "def get_task_folders(structure, config, concurrency):\n",
    "    exp_folder = data_folder+structure+'/'+config+\"/concurrency_\"+str(concurrency)+\"/deploy1/rally/\"\n",
    "    task_folders = os.walk(exp_folder).next()[1]\n",
    "    task_folders = ['{0}/{1}'.format(exp_folder, subfold) for subfold in task_folders]\n",
    "    task_folders.sort()\n",
    "    return task_folders\n",
    "\n",
    "\n",
    "def extract_durations(structure, config, concurrency):\n",
    "    task_folders = get_task_folders(structure, config, concurrency)\n",
    "    task_data_all = get_task_data_list(task_folders)\n",
    "    durations = list()\n",
    "    for task_data in task_data_all:\n",
    "        for workload_info in task_data['data']:\n",
    "            durations.append(workload_info['duration'])\n",
    "    durations = np.array(durations)\n",
    "    return durations\n",
    "\n",
    "def extract_metrics(structure, config, concurrency):\n",
    "    result = dict()\n",
    "    metric_names = None\n",
    "    task_folders = get_task_folders(structure, config, concurrency)\n",
    "    for task_folder in task_folders:\n",
    "        load_folders = next(os.walk(task_folder))[1]\n",
    "        load_folders.sort()\n",
    "        for load_folder in load_folders:\n",
    "            curr_folder = task_folder + \"/\" + load_folder+\"/labeled_metrics\"\n",
    "            for node in next(os.walk(curr_folder))[1]:\n",
    "                with open(curr_folder+'/'+node+'/custom_metrics.csv', newline='', encoding='utf-8') as f:\n",
    "                    reader = csv.reader(f)\n",
    "                    metric_names = reader.__next__()\n",
    "                    metrics = list()\n",
    "                    for row in reader:\n",
    "                        metrics.append(row)\n",
    "                    metrics = list(map(list, itertools.zip_longest(*metrics, fillvalue=None)))\n",
    "                    metrics = dict(zip(metric_names, metrics))\n",
    "                    result[node.split('.')[0]] = metrics\n",
    "    # discards no data if jagged and fills short nested lists with None\n",
    "    return result"
   ],
   "metadata": {
    "collapsed": false,
    "pycharm": {
     "name": "#%%\n"
    }
   }
  },
  {
   "cell_type": "code",
   "execution_count": 23,
   "outputs": [],
   "source": [
    "def SMA(data, width):\n",
    "    i = 0\n",
    "    moving_averages = []\n",
    "    while i < len(data) - width + 1:\n",
    "        window = data[i : i + width]\n",
    "        window_average = round(np.sum(window) / width, 2)\n",
    "        moving_averages.append(window_average)\n",
    "        i += 1\n",
    "    return moving_averages"
   ],
   "metadata": {
    "collapsed": false,
    "pycharm": {
     "name": "#%%\n"
    }
   }
  },
  {
   "cell_type": "code",
   "execution_count": 39,
   "outputs": [
    {
     "ename": "StopIteration",
     "evalue": "",
     "output_type": "error",
     "traceback": [
      "\u001B[1;31m---------------------------------------------------------------------------\u001B[0m",
      "\u001B[1;31mStopIteration\u001B[0m                             Traceback (most recent call last)",
      "Cell \u001B[1;32mIn[39], line 6\u001B[0m\n\u001B[0;32m      3\u001B[0m config \u001B[38;5;241m=\u001B[39m \u001B[38;5;124m\"\u001B[39m\u001B[38;5;124mwally190\u001B[39m\u001B[38;5;124m\"\u001B[39m\n\u001B[0;32m      4\u001B[0m concurrency \u001B[38;5;241m=\u001B[39m \u001B[38;5;124m\"\u001B[39m\u001B[38;5;124m4\u001B[39m\u001B[38;5;124m\"\u001B[39m\n\u001B[1;32m----> 6\u001B[0m durations_wally190 \u001B[38;5;241m=\u001B[39m \u001B[43mextract_durations\u001B[49m\u001B[43m(\u001B[49m\u001B[43mstruct\u001B[49m\u001B[43m,\u001B[49m\u001B[43m \u001B[49m\u001B[43mconfig\u001B[49m\u001B[43m,\u001B[49m\u001B[43m \u001B[49m\u001B[43mconcurrency\u001B[49m\u001B[43m)\u001B[49m\n\u001B[0;32m      8\u001B[0m plt\u001B[38;5;241m.\u001B[39mfigure()\u001B[38;5;241m.\u001B[39mset_figwidth(\u001B[38;5;241m15\u001B[39m)\n\u001B[0;32m      9\u001B[0m plt\u001B[38;5;241m.\u001B[39mplot(SMA(durations_wally190, \u001B[38;5;241m20\u001B[39m))\n",
      "Cell \u001B[1;32mIn[33], line 27\u001B[0m, in \u001B[0;36mextract_durations\u001B[1;34m(structure, config, concurrency)\u001B[0m\n\u001B[0;32m     25\u001B[0m \u001B[38;5;28;01mdef\u001B[39;00m \u001B[38;5;21mextract_durations\u001B[39m(structure, config, concurrency):\n\u001B[0;32m     26\u001B[0m     task_folders \u001B[38;5;241m=\u001B[39m get_task_folders(structure, config, concurrency)\n\u001B[1;32m---> 27\u001B[0m     task_data_all \u001B[38;5;241m=\u001B[39m \u001B[43mget_task_data_list\u001B[49m\u001B[43m(\u001B[49m\u001B[43mtask_folders\u001B[49m\u001B[43m)\u001B[49m\n\u001B[0;32m     28\u001B[0m     durations \u001B[38;5;241m=\u001B[39m \u001B[38;5;28mlist\u001B[39m()\n\u001B[0;32m     29\u001B[0m     \u001B[38;5;28;01mfor\u001B[39;00m task_data \u001B[38;5;129;01min\u001B[39;00m task_data_all:\n",
      "Cell \u001B[1;32mIn[33], line 8\u001B[0m, in \u001B[0;36mget_task_data_list\u001B[1;34m(task_folders)\u001B[0m\n\u001B[0;32m      6\u001B[0m result \u001B[38;5;241m=\u001B[39m \u001B[38;5;28mlist\u001B[39m()\n\u001B[0;32m      7\u001B[0m \u001B[38;5;28;01mfor\u001B[39;00m task_folder \u001B[38;5;129;01min\u001B[39;00m task_folders:\n\u001B[1;32m----> 8\u001B[0m     load_folders \u001B[38;5;241m=\u001B[39m \u001B[38;5;28;43mnext\u001B[39;49m\u001B[43m(\u001B[49m\u001B[43mos\u001B[49m\u001B[38;5;241;43m.\u001B[39;49m\u001B[43mwalk\u001B[49m\u001B[43m(\u001B[49m\u001B[43mtask_folder\u001B[49m\u001B[43m)\u001B[49m\u001B[43m)\u001B[49m[\u001B[38;5;241m1\u001B[39m]\n\u001B[0;32m      9\u001B[0m     load_folders\u001B[38;5;241m.\u001B[39msort()\n\u001B[0;32m     10\u001B[0m     \u001B[38;5;28;01mfor\u001B[39;00m load_folder \u001B[38;5;129;01min\u001B[39;00m load_folders:\n",
      "\u001B[1;31mStopIteration\u001B[0m: "
     ]
    }
   ],
   "source": [
    "\n",
    "struct = \"HA\"\n",
    "config = \"wally190\"\n",
    "concurrency = \"4\"\n",
    "\n",
    "durations_wally190 = extract_durations(struct, config, concurrency)\n",
    "\n",
    "plt.figure().set_figwidth(15)\n",
    "plt.plot(SMA(durations_wally190, 20))\n",
    "plt.show()"
   ],
   "metadata": {
    "collapsed": false,
    "pycharm": {
     "name": "#%%\n"
    }
   }
  },
  {
   "cell_type": "code",
   "execution_count": null,
   "outputs": [],
   "source": [
    "metrics_HA = extract_metrics(struct, \"wally190\", concurrency)\n",
    "\n",
    "plt.figure().set_figwidth(15)\n",
    "for node, metrics in metrics_HA.items():\n",
    "    plt.plot(SMA(np.array(metrics_HA[node][metric_memory]).astype(float), 1), label=node)\n",
    "plt.legend()\n",
    "plt.show()"
   ],
   "metadata": {
    "collapsed": false,
    "pycharm": {
     "name": "#%%\n"
    }
   }
  }
 ],
 "metadata": {
  "kernelspec": {
   "display_name": "Python 3",
   "language": "python",
   "name": "python3"
  },
  "language_info": {
   "codemirror_mode": {
    "name": "ipython",
    "version": 2
   },
   "file_extension": ".py",
   "mimetype": "text/x-python",
   "name": "python",
   "nbconvert_exporter": "python",
   "pygments_lexer": "ipython2",
   "version": "2.7.6"
  }
 },
 "nbformat": 4,
 "nbformat_minor": 0
}